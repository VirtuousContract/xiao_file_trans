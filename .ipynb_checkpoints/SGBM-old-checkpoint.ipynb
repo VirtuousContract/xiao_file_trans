{
 "cells": [
  {
   "cell_type": "markdown",
   "metadata": {},
   "source": [
    "# sobel算子计算梯度特征\n",
    "1. 原图转换为梯度图，下一步计算sad代价\n"
   ]
  },
  {
   "cell_type": "code",
   "execution_count": 14,
   "metadata": {},
   "outputs": [],
   "source": [
    "#测试块\n",
    "import numpy as np\n",
    "import cv2\n"
   ]
  },
  {
   "cell_type": "code",
   "execution_count": 48,
   "metadata": {
    "scrolled": true
   },
   "outputs": [],
   "source": [
    "def preProcess(imgPath,preFilterCap=15,dx=1,dy=0,ksize=3):\n",
    "    '''\n",
    "    功能：使用sobel算子计算输入图像梯度特征图\n",
    "    return: 梯度特征图\n",
    "    input：\n",
    "        imgPath:输入图像的路径\n",
    "        dx,dy:==1表示在该方向求梯度，==0该方向不求梯度\n",
    "        ksize:sobel算子核尺寸\n",
    "    '''\n",
    "    img=cv2.imread(imgPath,0) #原始图像\n",
    "    sobel=cv2.Sobel(img,cv2.CV_64F,dx,dy,ksize=3) \n",
    "    scaled_sobel = cv2.convertScaleAbs(sobel)  # 转回uint8，梯度图像\n",
    "    myPreFilterCap(scaled_sobel,preFilterCap)\n",
    "    return scaled_sobel\n",
    "\n",
    "def myPreFilterCap(image,preFilterCap):\n",
    "    '''\n",
    "    将图像像素值限定在0~preFilterCap范围内\n",
    "    '''\n",
    "    for i in range(image.shape[0]):\n",
    "        for j in range(image.shape[1]):\n",
    "            if image[i,j]<-preFilterCap: \n",
    "                image[i,j]=0\n",
    "            elif image[i,j]>=-preFilterCap and image[i,j]<=preFilterCap:\n",
    "                image[i,j]+=preFilterCap\n",
    "            else:\n",
    "                image[i,j]=preFilterCap*2      \n",
    "                \n",
    "def dispCalcu(left,right,maxDisparity,P1=0,P2=0,ksize=3,filterSize=3):\n",
    "    '''\n",
    "    以右图为基准计算3D代价卷（x,y,d)\n",
    "    input:\n",
    "        left:左图\n",
    "        right：右图\n",
    "        maxDisparity:最大视差\n",
    "        P1，P2：平滑惩罚\n",
    "        ksize：sad窗口尺寸\n",
    "        filterSize:代价卷滤波核尺寸，奇数\n",
    "    return：3D代价卷（x,y,d)\n",
    "    '''\n",
    "    halfKernel=(ksize-1)//2\n",
    "\n",
    "    #异常检测\n",
    "    if left.shape!=right.shape:\n",
    "        raise Exception(\"左右图像尺寸不相同\")\n",
    "    if ksize%2==0:\n",
    "        raise Exception(\"SAD窗口尺寸ksize必须是奇数\")\n",
    "    if filterSize%2==0:\n",
    "        raise Exception(\"filterSize必须是奇数\")\n",
    "        \n",
    "    #padding:左图右侧额外扩展，扩展值为halfKernel+maxDisparity\n",
    "    leftPadding=cv2.copyMakeBorder(left,halfKernel,halfKernel,halfKernel,halfKernel+maxDisparity,cv2.BORDER_REPLICATE)\n",
    "    rightPadding=cv2.copyMakeBorder(right,halfKernel,halfKernel,halfKernel,halfKernel,cv2.BORDER_REPLICATE)\n",
    "\n",
    "    #对于右图图中的每个像素（0，0开始），计算视差d：0~maxDisparity每个视差等级的代价\n",
    "    #右图向右寻找对应点,对应点的范围是原图，而不是padding后的图\n",
    "    rows=right.shape[0] #最大行数\n",
    "    cols=right.shape[1] #最大列数\n",
    "    costVolume=np.zeros((rows,cols,maxDisparity))\n",
    "    for i in range(halfKernel,rows):\n",
    "        for j in range(halfKernel,cols):\n",
    "            for d in range(maxDisparity): # d:视差\n",
    "                #因为事先进行了padding，所以不会出现j+d越界的情况\n",
    "                #左右图切片：(i,j)-halfKernel ~ +halfKernel\n",
    "                costVolume[i,j,d]=np.sum(np.abs(rightPadding[i-halfKernel:i+halfKernel,j-halfKernel:j+halfKernel]-\n",
    "                leftPadding[i-halfKernel:i+halfKernel,j+d-halfKernel:j+d+halfKernel])) \n",
    "                \n",
    "    #可选1：横竖两个方向四条路径半全局更新代价卷\n",
    "    #*可选2：代价卷滤波提高稳定性\n",
    "    filterSize_half=(filterSize-1)//2\n",
    "    costPadding=np.pad(costVolume,((filterSize_half,filterSize_half),(filterSize_half,filterSize_half),(filterSize_half,filterSize_half)),'edge')\n",
    "    costVolumeFilter=np.zeros(costVolume.shape) #视差图\n",
    "    for i in range(filterSize_half,costVolume.shape[0]):\n",
    "        for j in range(filterSize_half,costVolume.shape[1]):\n",
    "            for d in range(filterSize_half,costVolume.shape[2]): # d:视差\n",
    "                costVolumeFilter[i,j,d]=np.mean(costPadding[i-filterSize_half:i+filterSize_half,j-filterSize_half:j+filterSize_half,d-filterSize_half:d+filterSize_half])\n",
    "    \n",
    "    #代价聚合\n",
    "        #将每个点各个视差等级上的代价归一化到0，1之间，使之成为概率，sum（概率*视差）=该点的最终视差\n",
    "    disp=np.zeros(costVolumeFilter.shape[0:2]) #视差图\n",
    "    print(costVolumeFilter.shape[0:2])\n",
    "    for i in range(costVolumeFilter.shape[0]):\n",
    "        for j in range(costVolumeFilter.shape[1]):\n",
    "            costSum=np.sum(costVolumeFilter[i,j,:])\n",
    "#             print(costSum)\n",
    "            for d in range(costVolumeFilter.shape[2]): # d:视差\n",
    "                disp[i,j]+=costVolumeFilter[i,j,d]/(costSum+1)*d\n",
    "    disp=disp.astype(int)        \n",
    "    return disp\n",
    "\n",
    "#next：插值             \n",
    "#next:左右一致性检测\n",
    "\n",
    "                    "
   ]
  },
  {
   "cell_type": "code",
   "execution_count": 49,
   "metadata": {},
   "outputs": [
    {
     "name": "stdout",
     "output_type": "stream",
     "text": [
      "(278, 322)\n"
     ]
    }
   ],
   "source": [
    "import cv2\n",
    "import numpy as np\n",
    "from matplotlib import pyplot as plt\n",
    "#参数列表\n",
    "preFilterCap=15\n",
    "maxDisparity=50\n",
    "# img=cv2.imread(\"girl.jpg\",0) #原始图像\n",
    "left=preProcess(\"l_view.png\") #特征图\n",
    "right=preProcess(\"r_view.png\")\n",
    "disp=dispCalcu(left,right,maxDisparity)\n",
    "\n",
    "# print(disp)\n",
    "\n",
    "cv2.imshow(\"disp\",disp)\n",
    "# cv2.imshow(\"canny\",img_canny)\n",
    "cv2.waitKey(0)  \n",
    "cv2.destroyAllWindows()\n"
   ]
  },
  {
   "cell_type": "code",
   "execution_count": 8,
   "metadata": {},
   "outputs": [
    {
     "data": {
      "text/plain": [
       "(1, 2, 3)"
      ]
     },
     "execution_count": 8,
     "metadata": {},
     "output_type": "execute_result"
    }
   ],
   "source": [
    "#测试代价函数\n",
    "import numpy as np\n",
    "import cv2\n",
    "from matplotlib import pyplot as plt\n",
    "from mpl_toolkits.mplot3d import Axes3D\n",
    "x=np.array([1,2,3,4,5,6])\n",
    "x=np.reshape(x,(2,3))\n",
    "y=(1,2,3)\n",
    "y[0:]\n",
    "\n"
   ]
  },
  {
   "cell_type": "code",
   "execution_count": 50,
   "metadata": {},
   "outputs": [],
   "source": [
    "\n",
    "disp.astype(int)\n",
    "cv2.imshow('dispInt',disp.astype(np.int8))\n",
    "cv2.waitKey()\n",
    "cv2.destroyAllWindows()"
   ]
  }
 ],
 "metadata": {
  "kernelspec": {
   "display_name": "Python [conda env:DeepLearning]",
   "language": "python",
   "name": "conda-env-DeepLearning-py"
  },
  "language_info": {
   "codemirror_mode": {
    "name": "ipython",
    "version": 3
   },
   "file_extension": ".py",
   "mimetype": "text/x-python",
   "name": "python",
   "nbconvert_exporter": "python",
   "pygments_lexer": "ipython3",
   "version": "3.6.2"
  },
  "toc": {
   "base_numbering": 1,
   "nav_menu": {},
   "number_sections": true,
   "sideBar": true,
   "skip_h1_title": false,
   "title_cell": "Table of Contents",
   "title_sidebar": "Contents",
   "toc_cell": false,
   "toc_position": {},
   "toc_section_display": true,
   "toc_window_display": false
  }
 },
 "nbformat": 4,
 "nbformat_minor": 2
}
